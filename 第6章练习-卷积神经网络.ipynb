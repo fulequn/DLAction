{
 "cells": [
  {
   "cell_type": "markdown",
   "id": "6b3e5375",
   "metadata": {},
   "source": [
    "# 卷积神经网络\n",
    "\n",
    "在本章节的练习中，我们将对卷积，池化，空间批量归一化等内容进行编码，并比较不同实现方式的执行效率。由于python语言运行效率太过缓慢，我们会在第八章的tensorflow介绍章节再次训练卷积网络，本章我们只需要针对卷积网络的各个模块进行编码练习即可。本章我们将逐步完成：\n",
    "* 卷积前向传播编码练习\n",
    "* 卷积反向传播编码练习\n",
    "* 最大池化前向传播编码练习\n",
    "* 最大池化反向传播编码练习\n",
    "* 组合完整卷积层编码练习\n",
    "* 空间批量归一化编码练习"
   ]
  },
  {
   "cell_type": "code",
   "execution_count": 1,
   "id": "b0b6d7d6",
   "metadata": {},
   "outputs": [],
   "source": [
    "#-*- coding: utf-8 -*-\n",
    "import time\n",
    "import numpy as np\n",
    "import matplotlib.pyplot as plt\n",
    "from classifiers.chapter6 import *\n",
    "from utils import *\n",
    "\n",
    "%matplotlib inline\n",
    "plt.rcParams['figure.figsize'] =(10.0, 8.0) \n",
    "plt.rcParams['image.interpolation'] = 'nearest'\n",
    "plt.rcParams['image.cmap'] = 'gray'\n",
    "\n",
    "%load_ext autoreload\n",
    "%autoreload 2\n",
    "\n",
    "def rel_error(x, y):\n",
    "    \"\"\" 相对误差 \"\"\"\n",
    "    return np.max(np.abs(x - y) /(np.maximum(1e-8, np.abs(x) + np.abs(y))))"
   ]
  },
  {
   "cell_type": "code",
   "execution_count": 2,
   "id": "75fd9c67",
   "metadata": {},
   "outputs": [
    {
     "name": "stdout",
     "output_type": "stream",
     "text": [
      "X_train:  (49000, 3, 32, 32)\n",
      "y_train:  (49000,)\n",
      "X_val:  (1000, 3, 32, 32)\n",
      "y_val:  (1000,)\n",
      "X_test:  (1000, 3, 32, 32)\n",
      "y_test:  (1000,)\n"
     ]
    }
   ],
   "source": [
    "# 导入数据\n",
    "data = get_CIFAR10_data()\n",
    "for k, v in data.items():\n",
    "    print('%s: ' % k, v.shape)"
   ]
  },
  {
   "cell_type": "markdown",
   "id": "26f19350",
   "metadata": {},
   "source": [
    "## 卷积前向传播(简单版本)\n",
    "\n",
    "卷积的前向传播过程，其实就是使用多个卷积核顺序扫描输入数据的过程。虽然思想简单，但对于实际编程而言可能就会比较有难度了。我们已经实现了前向传播最直观的版本，但执行效率十分低下，可读性也非常差。"
   ]
  },
  {
   "cell_type": "code",
   "execution_count": 3,
   "id": "837b38fb",
   "metadata": {},
   "outputs": [
    {
     "name": "stdout",
     "output_type": "stream",
     "text": [
      "测试 max_pool_backward_naive 函数:\n",
      "dx 误差:  3.275626262118968e-12\n"
     ]
    }
   ],
   "source": [
    "x = np.random.randn(3, 2, 8, 8)\n",
    "dout = np.random.randn(3, 2, 4, 4)\n",
    "pool_param = {'pool_height': 2, 'pool_width': 2, 'stride': 2}\n",
    "\n",
    "dx_num = eval_numerical_gradient_array(lambda x: max_pool_forward_naive(x, pool_param)[0], x, dout)\n",
    "\n",
    "out, cache = max_pool_forward_naive(x, pool_param)\n",
    "dx = max_pool_backward_naive(dout, cache)\n",
    "\n",
    "# 相对误差大约为 1e-12\n",
    "print('测试 max_pool_backward_naive 函数:')\n",
    "print('dx 误差: ', rel_error(dx, dx_num))"
   ]
  },
  {
   "cell_type": "markdown",
   "id": "e646f4f5",
   "metadata": {},
   "source": [
    "由于 Python 自身执行速度缓慢的原因，即使我们完全向量化卷积后，该执行效率也远远达不到我们的需求。比较有效的方法是将完全向量版本的卷积操作使用 Cython 转化为 C 语言执行，但 Windows下需要安装诸多依赖库，操作不太方使。此处只进行完全向量版本的执行。"
   ]
  },
  {
   "cell_type": "markdown",
   "id": "bf065141",
   "metadata": {},
   "source": [
    "## 快速卷积\n",
    "\n",
    "执行下列代码，比较快速卷积与你实现的卷积操作"
   ]
  },
  {
   "cell_type": "code",
   "execution_count": 4,
   "id": "274685c8",
   "metadata": {},
   "outputs": [
    {
     "name": "stdout",
     "output_type": "stream",
     "text": [
      "测试 conv_forward_fast:\n",
      "慢速版本: 4.569356s\n",
      "快速版本: 1.244883s\n",
      "加速: 3.670510x\n",
      "误差:  3.89496113023988e-11\n"
     ]
    }
   ],
   "source": [
    "from classifiers.chapter6.cnn_layers import conv_forward_fast\n",
    "from time import time\n",
    "\n",
    "x = np.random.randn(100, 3, 31, 31)\n",
    "w = np.random.randn(25, 3, 3, 3)\n",
    "b = np.random.randn(25,)\n",
    "dout = np.random.randn(100, 25, 16, 16)\n",
    "conv_param = {'stride': 2, 'pad': 1}\n",
    "\n",
    "t0 = time()\n",
    "out_naive, cache_naive = conv_forward_naive(x, w, b, conv_param)\n",
    "t1 = time()\n",
    "out_fast, cache_fast = conv_forward_fast(x, w, b, conv_param)\n",
    "t2 = time()\n",
    "\n",
    "print('测试 conv_forward_fast:')\n",
    "print('慢速版本: %fs' %(t1 - t0))\n",
    "print('快速版本: %fs' %(t2 - t1))\n",
    "print('加速: %fx' %((t1 - t0) /(t2 - t1)))\n",
    "print('误差: ', rel_error(out_naive, out_fast))"
   ]
  },
  {
   "cell_type": "markdown",
   "id": "83c13527",
   "metadata": {},
   "source": [
    "## 快速池化操作\n",
    "\n",
    "执行下列代码，比较快速池化与你实现的池化操作"
   ]
  },
  {
   "cell_type": "code",
   "execution_count": 5,
   "id": "b7b9f0c9",
   "metadata": {},
   "outputs": [
    {
     "name": "stdout",
     "output_type": "stream",
     "text": [
      "测试 pool_forward_fast:\n",
      "慢速版本: 0.009760s\n",
      "快速版本: 0.005861s\n",
      "加速: 1.665189x\n",
      "误差:  0.0\n",
      "\n",
      "测试 pool_backward_fast:\n",
      "慢速版本: 0.020494s\n",
      "快速版本: 0.014640s\n",
      "加速: 1.399909x\n",
      "dx 误差:  0.0\n"
     ]
    }
   ],
   "source": [
    "x = np.random.randn(100, 3, 32, 32)\n",
    "dout = np.random.randn(100, 3, 16, 16)\n",
    "pool_param = {'pool_height': 2, 'pool_width': 2, 'stride': 2}\n",
    "\n",
    "t0 = time()\n",
    "out_naive, cache_naive = max_pool_forward_naive(x, pool_param)\n",
    "t1 = time()\n",
    "out_fast, cache_fast = max_pool_forward_fast(x, pool_param)\n",
    "t2 = time()\n",
    "\n",
    "print('测试 pool_forward_fast:')\n",
    "print('慢速版本: %fs' %(t1 - t0))\n",
    "print('快速版本: %fs' %(t2 - t1))\n",
    "print('加速: %fx' %((t1 - t0) /(t2 - t1)))\n",
    "print('误差: ', rel_error(out_naive, out_fast))\n",
    "\n",
    "t0 = time()\n",
    "dx_naive = max_pool_backward_naive(dout, cache_naive)\n",
    "t1 = time()\n",
    "dx_fast = max_pool_backward_fast(dout, cache_fast)\n",
    "t2 = time()\n",
    "\n",
    "print('\\n测试 pool_backward_fast:')\n",
    "print('慢速版本: %fs' %(t1 - t0))\n",
    "print('快速版本: %fs' %(t2 - t1))\n",
    "print('加速: %fx' %((t1 - t0) /(t2 - t1)))\n",
    "print('dx 误差: ', rel_error(dx_naive, dx_fast))"
   ]
  },
  {
   "cell_type": "markdown",
   "id": "5d114306",
   "metadata": {},
   "source": [
    "# 完整的卷积层\n",
    "\n",
    "我们将卷积、ReLU和池化组合在一起，形成一层完整的卷积层。"
   ]
  },
  {
   "cell_type": "code",
   "execution_count": 6,
   "id": "206e928b",
   "metadata": {},
   "outputs": [
    {
     "name": "stdout",
     "output_type": "stream",
     "text": [
      "测试 conv_relu_pool\n",
      "dx 误差:  4.788779820806906e-08\n",
      "dw 误差:  1.4213812914502082e-09\n",
      "db 误差:  7.989753683822969e-11\n"
     ]
    }
   ],
   "source": [
    "x = np.random.randn(2, 3, 16, 16)\n",
    "w = np.random.randn(3, 3, 3, 3)\n",
    "b = np.random.randn(3,)\n",
    "dout = np.random.randn(2, 3, 8, 8)\n",
    "conv_param = {'stride': 1, 'pad': 1}\n",
    "pool_param = {'pool_height': 2, 'pool_width': 2, 'stride': 2}\n",
    "\n",
    "out, cache = conv_relu_pool_forward(x, w, b, conv_param, pool_param)\n",
    "dx, dw, db = conv_relu_pool_backward(dout, cache)\n",
    "\n",
    "dx_num = eval_numerical_gradient_array(lambda x: conv_relu_pool_forward(\n",
    "        x, w, b, conv_param, pool_param)[0], x, dout)\n",
    "dw_num = eval_numerical_gradient_array(lambda w: conv_relu_pool_forward(\n",
    "        x, w, b, conv_param, pool_param)[0], w, dout)\n",
    "db_num = eval_numerical_gradient_array(lambda b: conv_relu_pool_forward(\n",
    "        x, w, b, conv_param, pool_param)[0], b, dout)\n",
    "\n",
    "print('测试 conv_relu_pool')\n",
    "print('dx 误差: ', rel_error(dx_num, dx))\n",
    "print('dw 误差: ', rel_error(dw_num, dw))\n",
    "print('db 误差: ', rel_error(db_num, db))"
   ]
  },
  {
   "cell_type": "code",
   "execution_count": 7,
   "id": "f40652b0",
   "metadata": {},
   "outputs": [
    {
     "name": "stdout",
     "output_type": "stream",
     "text": [
      "测试 conv_relu:\n",
      "dx 误差:  1.5225915734358116e-08\n",
      "dw 误差:  1.090045954938535e-09\n",
      "db 误差:  5.516659294279198e-12\n"
     ]
    }
   ],
   "source": [
    "# 生成测试数据\n",
    "x = np.random.randn(2, 3, 8, 8)\n",
    "w = np.random.randn(3, 3, 3, 3)\n",
    "b = np.random.randn(3,)\n",
    "dout = np.random.randn(2, 3, 8, 8)\n",
    "conv_param = {'stride': 1, 'pad': 1}\n",
    "\n",
    "out, cache = conv_relu_forward(x, w, b, conv_param)\n",
    "dx, dw, db = conv_relu_backward(dout, cache)\n",
    "\n",
    "dx_num = eval_numerical_gradient_array(lambda x: conv_relu_forward(x, w, b, conv_param)[0], x, dout)\n",
    "dw_num = eval_numerical_gradient_array(lambda w: conv_relu_forward(x, w, b, conv_param)[0], w, dout)\n",
    "db_num = eval_numerical_gradient_array(lambda b: conv_relu_forward(x, w, b, conv_param)[0], b, dout)\n",
    "\n",
    "print('测试 conv_relu:')\n",
    "print('dx 误差: ', rel_error(dx_num, dx))\n",
    "print('dw 误差: ', rel_error(dw_num, dw))\n",
    "print('db 误差: ', rel_error(db_num, db))"
   ]
  },
  {
   "cell_type": "markdown",
   "id": "9391099e",
   "metadata": {},
   "source": [
    "## 浅层卷积网络\n",
    "\n",
    "接下来我们实现简单的浅层卷积网络，该网络由一层卷积层，两层全连接层组成：输入 - conv - relu - 2x2 max pool - affine - relu - affine - softmax。"
   ]
  },
  {
   "cell_type": "markdown",
   "id": "da52451b",
   "metadata": {},
   "source": [
    "### 损失函数检验\n",
    "\n",
    "在不添加正则化的情况下，c分类任务，初始时的损失值应该接近于`log(c)`，运行下列代码进行损失值检验："
   ]
  },
  {
   "cell_type": "code",
   "execution_count": 11,
   "id": "9d6a34a0",
   "metadata": {},
   "outputs": [
    {
     "name": "stdout",
     "output_type": "stream",
     "text": [
      "初始损失值所对应分类(无正则化):  10.000002711556776\n",
      "初始损失值(正则化):  2.508280195836654\n"
     ]
    }
   ],
   "source": [
    "model = ThreeLayerConvNet()\n",
    "N = 50\n",
    "X = np.random.randn(N, 3, 32, 32)\n",
    "y = np.random.randint(10, size=N)\n",
    "\n",
    "loss, grads = model.loss(X, y)\n",
    "print('初始损失值所对应分类(无正则化): ', np.exp(loss))\n",
    "\n",
    "model.reg = 0.5\n",
    "loss, grads = model.loss(X, y)\n",
    "print('初始损失值(正则化): ', loss)"
   ]
  },
  {
   "cell_type": "markdown",
   "id": "73b2e002",
   "metadata": {},
   "source": [
    "### 梯度检验\n",
    "\n",
    "运行下列代码进行梯度检验："
   ]
  },
  {
   "cell_type": "code",
   "execution_count": 12,
   "id": "b7844df5",
   "metadata": {},
   "outputs": [
    {
     "name": "stdout",
     "output_type": "stream",
     "text": [
      "W1 最大相对误差: 2.978425e-02\n",
      "W2 最大相对误差: 1.612577e-02\n",
      "W3 最大相对误差: 4.231643e-04\n",
      "b1 最大相对误差: 1.587488e-05\n",
      "b2 最大相对误差: 5.809691e-02\n",
      "b3 最大相对误差: 1.120641e-09\n"
     ]
    }
   ],
   "source": [
    "num_inputs = 2\n",
    "input_dim =(3, 16, 16)\n",
    "reg = 0.0\n",
    "num_classes = 10\n",
    "X = np.random.randn(num_inputs, *input_dim)\n",
    "y = np.random.randint(num_classes, size=num_inputs)\n",
    "\n",
    "model = ThreeLayerConvNet(num_filters=3, filter_size=3,\n",
    "                          input_dim=input_dim, hidden_dim=7)\n",
    "loss, grads = model.loss(X, y)\n",
    "for param_name in sorted(grads):\n",
    "    f = lambda _: model.loss(X, y)[0]\n",
    "    param_grad_num = eval_numerical_gradient(\n",
    "        f, model.params[param_name], verbose=False, h=1e-6)\n",
    "    e = rel_error(param_grad_num, grads[param_name])\n",
    "    print('%s 最大相对误差: %e' %(param_name, rel_error(\n",
    "            param_grad_num, grads[param_name])))"
   ]
  },
  {
   "cell_type": "markdown",
   "id": "5c41295c",
   "metadata": {},
   "source": [
    "### 过拟合小量数据\n",
    "\n",
    "运行下列代码，确保在小数据集上出现明显的过拟合现象"
   ]
  },
  {
   "cell_type": "code",
   "execution_count": 16,
   "id": "66c4a314",
   "metadata": {},
   "outputs": [
    {
     "name": "stdout",
     "output_type": "stream",
     "text": [
      "(迭代 1 / 40) 损失值: 2.388168\n",
      "(周期 0 / 20) 训练精度: 0.180000; 验证精度: 0.121000\n",
      "(周期 1 / 20) 训练精度: 0.130000; 验证精度: 0.105000\n",
      "(周期 2 / 20) 训练精度: 0.290000; 验证精度: 0.140000\n",
      "(迭代 6 / 40) 损失值: 2.912659\n",
      "(周期 3 / 20) 训练精度: 0.230000; 验证精度: 0.128000\n",
      "(周期 4 / 20) 训练精度: 0.280000; 验证精度: 0.127000\n",
      "(周期 5 / 20) 训练精度: 0.310000; 验证精度: 0.168000\n",
      "(迭代 11 / 40) 损失值: 1.985540\n",
      "(周期 6 / 20) 训练精度: 0.420000; 验证精度: 0.167000\n",
      "(周期 7 / 20) 训练精度: 0.460000; 验证精度: 0.177000\n",
      "(迭代 16 / 40) 损失值: 1.504879\n",
      "(周期 8 / 20) 训练精度: 0.550000; 验证精度: 0.186000\n",
      "(周期 9 / 20) 训练精度: 0.520000; 验证精度: 0.174000\n",
      "(周期 10 / 20) 训练精度: 0.640000; 验证精度: 0.194000\n",
      "(迭代 21 / 40) 损失值: 1.109133\n",
      "(周期 11 / 20) 训练精度: 0.700000; 验证精度: 0.193000\n",
      "(周期 12 / 20) 训练精度: 0.720000; 验证精度: 0.187000\n",
      "(迭代 26 / 40) 损失值: 0.931523\n",
      "(周期 13 / 20) 训练精度: 0.750000; 验证精度: 0.225000\n",
      "(周期 14 / 20) 训练精度: 0.800000; 验证精度: 0.225000\n",
      "(周期 15 / 20) 训练精度: 0.800000; 验证精度: 0.209000\n",
      "(迭代 31 / 40) 损失值: 0.650131\n",
      "(周期 16 / 20) 训练精度: 0.860000; 验证精度: 0.211000\n",
      "(周期 17 / 20) 训练精度: 0.930000; 验证精度: 0.237000\n",
      "(迭代 36 / 40) 损失值: 0.243213\n",
      "(周期 18 / 20) 训练精度: 0.920000; 验证精度: 0.238000\n",
      "(周期 19 / 20) 训练精度: 0.940000; 验证精度: 0.228000\n",
      "(周期 20 / 20) 训练精度: 0.960000; 验证精度: 0.218000\n"
     ]
    }
   ],
   "source": [
    "num_train = 100\n",
    "small_data = {\n",
    "  'X_train': data['X_train'][:num_train],\n",
    "  'y_train': data['y_train'][:num_train],\n",
    "  'X_val': data['X_val'],\n",
    "  'y_val': data['y_val'],\n",
    "}\n",
    "\n",
    "model = ThreeLayerConvNet(weight_scale=1e-2)\n",
    "\n",
    "trainer = Trainer(model, small_data,\n",
    "                num_epochs=20, batch_size=50,\n",
    "                update_rule='adam',\n",
    "                updater_config={\n",
    "                  'learning_rate': 1e-3,\n",
    "                },\n",
    "                verbose=True, print_every=5)\n",
    "trainer.train()"
   ]
  },
  {
   "cell_type": "code",
   "execution_count": 17,
   "id": "13f7fec2",
   "metadata": {},
   "outputs": [
    {
     "data": {
      "image/png": "[encoded data removed]",
      "text/plain": [
       "<Figure size 720x576 with 2 Axes>"
      ]
     },
     "metadata": {
      "needs_background": "light"
     },
     "output_type": "display_data"
    }
   ],
   "source": [
    "plt.subplot(2, 1, 1)\n",
    "plt.title('Training loss',fontsize=18)\n",
    "plt.plot(trainer.loss_history, 'o')\n",
    "plt.xlabel('iteration',fontsize=18)\n",
    "plt.ylabel('loss',fontsize=18)\n",
    "\n",
    "plt.subplot(2, 1, 2)\n",
    "plt.subplots_adjust(left=0.08, right=0.95, wspace=0.25, hspace=0.3)\n",
    "plt.title('train accuracy VS val accuracy',fontsize=18)\n",
    "plt.plot(trainer.train_acc_history, '-o')\n",
    "plt.plot(trainer.val_acc_history, '-*')\n",
    "plt.legend(['train', 'val'], loc='upper left')\n",
    "plt.xlabel('epoch',fontsize=18)\n",
    "plt.ylabel('accuracy',fontsize=18)\n",
    "plt.show()"
   ]
  },
  {
   "cell_type": "markdown",
   "id": "0af11fef",
   "metadata": {},
   "source": [
    "## 空间批量归一化\n",
    "\n",
    "BN算法是一种非常高效的技术，大大加快的网络训练。但BN算法通常使用在全连接网络，因此在卷积网络中会有一点修改，我们将其称为\"spatial batch normalization.\"\n",
    "\n",
    "正常的BN接收(N,D)数据，现在我们需要将BN算法调整为接受(N,C,H,W)数据。\n",
    "由于之前我们已经编写好了BN算法，你只需要将图片数据重塑成(N,D)然后调用我们实现好了的BN算法，之后再将其输出结果重塑回(N,C,H,W)\n"
   ]
  },
  {
   "cell_type": "markdown",
   "id": "ac3e81ab",
   "metadata": {},
   "source": [
    "### SBN前向传播"
   ]
  },
  {
   "cell_type": "code",
   "execution_count": 18,
   "id": "f1960f58",
   "metadata": {},
   "outputs": [
    {
     "name": "stdout",
     "output_type": "stream",
     "text": [
      "使用BN之前:\n",
      "  数据形状:  (2, 3, 4, 5)\n",
      "  均值:  [ 9.63110549 10.5177553   9.05513499]\n",
      "  标准差:  [4.35307203 3.91791992 3.81445076]\n",
      "使用BN后:\n",
      "  输出数据形状:  (2, 3, 4, 5)\n",
      "  均值:  [ 9.99200722e-17 -8.14712880e-16 -6.93889390e-16]\n",
      "  标准差:  [0.99999974 0.99999967 0.99999966]\n",
      "在BN后使用(gamma, beta)进行缩放:\n",
      "  输出数据形状:  (2, 3, 4, 5)\n",
      "  均值:  [6. 7. 8.]\n",
      "  标准差:  [2.99999921 3.9999987  4.99999828]\n"
     ]
    }
   ],
   "source": [
    "#训练阶段：SBN前向传播\n",
    "N, C, H, W = 2, 3, 4, 5\n",
    "x = 4 * np.random.randn(N, C, H, W) + 10\n",
    "\n",
    "print('使用BN之前:')\n",
    "print('  数据形状: ', x.shape)\n",
    "print('  均值: ', x.mean(axis=(0, 2, 3)))\n",
    "print('  标准差: ', x.std(axis=(0, 2, 3)))\n",
    "\n",
    "\n",
    "gamma, beta = np.ones(C), np.zeros(C)\n",
    "bn_param = {'mode': 'train'}\n",
    "out, _ = spatial_batchnorm_forward(x, gamma, beta, bn_param)\n",
    "print('使用BN后:')\n",
    "print('  输出数据形状: ', out.shape)\n",
    "print('  均值: ', out.mean(axis=(0, 2, 3)))\n",
    "print('  标准差: ', out.std(axis=(0, 2, 3)))\n",
    "\n",
    "gamma, beta = np.asarray([3, 4, 5]), np.asarray([6, 7, 8])\n",
    "out, _ = spatial_batchnorm_forward(x, gamma, beta, bn_param)\n",
    "print('在BN后使用(gamma, beta)进行缩放:')\n",
    "print('  输出数据形状: ', out.shape)\n",
    "print('  均值: ', out.mean(axis=(0, 2, 3)))\n",
    "print('  标准差: ', out.std(axis=(0, 2, 3)))"
   ]
  },
  {
   "cell_type": "code",
   "execution_count": 20,
   "id": "5ba8de3e",
   "metadata": {},
   "outputs": [
    {
     "name": "stdout",
     "output_type": "stream",
     "text": [
      "  均值:  [0.02755273 0.03510479 0.04400864 0.02100596]\n",
      "  标准差:  [1.03484001 0.98419223 1.01060769 1.01369932]\n"
     ]
    }
   ],
   "source": [
    "#测试阶段：SBN前向传播\n",
    "N, C, H, W = 10, 4, 11, 12\n",
    "\n",
    "bn_param = {'mode': 'train'}\n",
    "gamma = np.ones(C)\n",
    "beta = np.zeros(C)\n",
    "\n",
    "for t in range(50):\n",
    "    x = 2.3 * np.random.randn(N, C, H, W) + 13\n",
    "    spatial_batchnorm_forward(x, gamma, beta, bn_param)\n",
    "bn_param['mode'] = 'test'\n",
    "x = 2.3 * np.random.randn(N, C, H, W) + 13\n",
    "a_norm, _ = spatial_batchnorm_forward(x, gamma, beta, bn_param)\n",
    "\n",
    "print('  均值: ', a_norm.mean(axis=(0, 2, 3)))\n",
    "print('  标准差: ', a_norm.std(axis=(0, 2, 3)))"
   ]
  },
  {
   "cell_type": "markdown",
   "id": "4f975619",
   "metadata": {},
   "source": [
    "### SBN反向传播"
   ]
  },
  {
   "cell_type": "code",
   "execution_count": 21,
   "id": "89ff9168",
   "metadata": {},
   "outputs": [
    {
     "name": "stdout",
     "output_type": "stream",
     "text": [
      "dx 误差:  1.5952312994552347e-08\n",
      "dgamma 误差:  4.433504952292138e-12\n",
      "dbeta 误差:  4.0383999407118856e-12\n"
     ]
    }
   ],
   "source": [
    "N, C, H, W = 2, 3, 4, 5\n",
    "x = 5 * np.random.randn(N, C, H, W) + 12\n",
    "gamma = np.random.randn(C)\n",
    "beta = np.random.randn(C)\n",
    "dout = np.random.randn(N, C, H, W)\n",
    "\n",
    "bn_param = {'mode': 'train'}\n",
    "fx = lambda x: spatial_batchnorm_forward(x, gamma, beta, bn_param)[0]\n",
    "fg = lambda a: spatial_batchnorm_forward(x, gamma, beta, bn_param)[0]\n",
    "fb = lambda b: spatial_batchnorm_forward(x, gamma, beta, bn_param)[0]\n",
    "\n",
    "dx_num = eval_numerical_gradient_array(fx, x, dout)\n",
    "da_num = eval_numerical_gradient_array(fg, gamma, dout)\n",
    "db_num = eval_numerical_gradient_array(fb, beta, dout)\n",
    "\n",
    "_, cache = spatial_batchnorm_forward(x, gamma, beta, bn_param)\n",
    "dx, dgamma, dbeta = spatial_batchnorm_backward(dout, cache)\n",
    "print('dx 误差: ', rel_error(dx_num, dx))\n",
    "print('dgamma 误差: ', rel_error(da_num, dgamma))\n",
    "print('dbeta 误差: ', rel_error(db_num, dbeta))"
   ]
  },
  {
   "cell_type": "markdown",
   "id": "5ff3f1cb",
   "metadata": {},
   "source": [
    "## 训练卷积网络"
   ]
  },
  {
   "cell_type": "code",
   "execution_count": null,
   "id": "f6e8fea5",
   "metadata": {},
   "outputs": [
    {
     "name": "stdout",
     "output_type": "stream",
     "text": [
      "(迭代 1 / 9800) 损失值: 2.303339\n",
      "(周期 0 / 10) 训练精度: 0.101000; 验证精度: 0.119000\n",
      "(迭代 3 / 9800) 损失值: 2.334345\n",
      "(迭代 5 / 9800) 损失值: 2.399291\n",
      "(迭代 7 / 9800) 损失值: 2.316727\n",
      "(迭代 9 / 9800) 损失值: 2.278965\n",
      "(迭代 11 / 9800) 损失值: 2.239781\n",
      "(迭代 13 / 9800) 损失值: 2.089464\n",
      "(迭代 15 / 9800) 损失值: 2.169326\n",
      "(迭代 17 / 9800) 损失值: 2.117073\n",
      "(迭代 19 / 9800) 损失值: 1.897549\n",
      "(迭代 21 / 9800) 损失值: 2.044792\n",
      "(迭代 23 / 9800) 损失值: 2.229730\n",
      "(迭代 25 / 9800) 损失值: 2.279604\n",
      "(迭代 27 / 9800) 损失值: 2.222372\n",
      "(迭代 29 / 9800) 损失值: 2.022023\n",
      "(迭代 31 / 9800) 损失值: 1.893715\n",
      "(迭代 33 / 9800) 损失值: 1.886617\n",
      "(迭代 35 / 9800) 损失值: 2.101612\n",
      "(迭代 37 / 9800) 损失值: 2.048918\n",
      "(迭代 39 / 9800) 损失值: 2.114011\n",
      "(迭代 41 / 9800) 损失值: 2.034655\n",
      "(迭代 43 / 9800) 损失值: 1.696890\n",
      "(迭代 45 / 9800) 损失值: 2.004295\n",
      "(迭代 47 / 9800) 损失值: 1.894582\n",
      "(迭代 49 / 9800) 损失值: 1.915542\n",
      "(迭代 51 / 9800) 损失值: 2.002454\n",
      "(迭代 53 / 9800) 损失值: 2.029914\n",
      "(迭代 55 / 9800) 损失值: 1.920715\n",
      "(迭代 57 / 9800) 损失值: 1.811339\n",
      "(迭代 59 / 9800) 损失值: 1.879020\n",
      "(迭代 61 / 9800) 损失值: 1.987333\n",
      "(迭代 63 / 9800) 损失值: 1.847146\n",
      "(迭代 65 / 9800) 损失值: 1.911756\n",
      "(迭代 67 / 9800) 损失值: 1.860287\n",
      "(迭代 69 / 9800) 损失值: 1.977371\n",
      "(迭代 71 / 9800) 损失值: 1.936084\n",
      "(迭代 73 / 9800) 损失值: 1.639608\n",
      "(迭代 75 / 9800) 损失值: 1.990092\n",
      "(迭代 77 / 9800) 损失值: 1.901660\n",
      "(迭代 79 / 9800) 损失值: 2.005168\n",
      "(迭代 81 / 9800) 损失值: 1.889691\n",
      "(迭代 83 / 9800) 损失值: 2.022044\n",
      "(迭代 85 / 9800) 损失值: 1.931332\n",
      "(迭代 87 / 9800) 损失值: 1.972134\n",
      "(迭代 89 / 9800) 损失值: 1.777364\n",
      "(迭代 91 / 9800) 损失值: 1.780737\n",
      "(迭代 93 / 9800) 损失值: 1.963789\n",
      "(迭代 95 / 9800) 损失值: 1.927447\n",
      "(迭代 97 / 9800) 损失值: 1.960523\n",
      "(迭代 99 / 9800) 损失值: 1.914877\n",
      "(迭代 101 / 9800) 损失值: 1.716645\n",
      "(迭代 103 / 9800) 损失值: 1.765718\n",
      "(迭代 105 / 9800) 损失值: 2.122341\n",
      "(迭代 107 / 9800) 损失值: 1.849172\n",
      "(迭代 109 / 9800) 损失值: 2.020525\n",
      "(迭代 111 / 9800) 损失值: 1.915613\n",
      "(迭代 113 / 9800) 损失值: 1.808912\n",
      "(迭代 115 / 9800) 损失值: 1.846372\n",
      "(迭代 117 / 9800) 损失值: 1.891024\n",
      "(迭代 119 / 9800) 损失值: 1.569039\n",
      "(迭代 121 / 9800) 损失值: 1.637754\n",
      "(迭代 123 / 9800) 损失值: 1.698949\n",
      "(迭代 125 / 9800) 损失值: 1.985955\n",
      "(迭代 127 / 9800) 损失值: 1.673864\n",
      "(迭代 129 / 9800) 损失值: 1.826067\n",
      "(迭代 131 / 9800) 损失值: 1.815124\n",
      "(迭代 133 / 9800) 损失值: 1.866925\n",
      "(迭代 135 / 9800) 损失值: 1.940567\n",
      "(迭代 137 / 9800) 损失值: 1.884095\n",
      "(迭代 139 / 9800) 损失值: 1.849993\n",
      "(迭代 141 / 9800) 损失值: 1.941039\n",
      "(迭代 143 / 9800) 损失值: 1.857288\n",
      "(迭代 145 / 9800) 损失值: 1.730857\n",
      "(迭代 147 / 9800) 损失值: 2.105659\n",
      "(迭代 149 / 9800) 损失值: 1.795795\n",
      "(迭代 151 / 9800) 损失值: 2.174046\n",
      "(迭代 153 / 9800) 损失值: 2.019538\n",
      "(迭代 155 / 9800) 损失值: 1.732757\n",
      "(迭代 157 / 9800) 损失值: 1.670984\n",
      "(迭代 159 / 9800) 损失值: 1.592464\n",
      "(迭代 161 / 9800) 损失值: 1.813895\n",
      "(迭代 163 / 9800) 损失值: 1.639067\n",
      "(迭代 165 / 9800) 损失值: 1.587938\n",
      "(迭代 167 / 9800) 损失值: 1.799356\n",
      "(迭代 169 / 9800) 损失值: 1.750778\n",
      "(迭代 171 / 9800) 损失值: 2.134175\n",
      "(迭代 173 / 9800) 损失值: 1.817605\n",
      "(迭代 175 / 9800) 损失值: 1.787242\n",
      "(迭代 177 / 9800) 损失值: 1.668361\n",
      "(迭代 179 / 9800) 损失值: 1.793518\n",
      "(迭代 181 / 9800) 损失值: 1.883326\n",
      "(迭代 183 / 9800) 损失值: 1.633063\n",
      "(迭代 185 / 9800) 损失值: 1.519529\n",
      "(迭代 187 / 9800) 损失值: 1.887889\n",
      "(迭代 189 / 9800) 损失值: 1.686772\n",
      "(迭代 191 / 9800) 损失值: 1.774219\n",
      "(迭代 193 / 9800) 损失值: 1.757321\n",
      "(迭代 195 / 9800) 损失值: 1.570355\n",
      "(迭代 197 / 9800) 损失值: 1.778653\n",
      "(迭代 199 / 9800) 损失值: 1.653307\n",
      "(迭代 201 / 9800) 损失值: 2.068612\n",
      "(迭代 203 / 9800) 损失值: 1.639195\n",
      "(迭代 205 / 9800) 损失值: 1.680369\n",
      "(迭代 207 / 9800) 损失值: 1.730560\n",
      "(迭代 209 / 9800) 损失值: 1.687998\n",
      "(迭代 211 / 9800) 损失值: 1.747248\n",
      "(迭代 213 / 9800) 损失值: 1.740587\n",
      "(迭代 215 / 9800) 损失值: 1.891618\n",
      "(迭代 217 / 9800) 损失值: 1.933578\n",
      "(迭代 219 / 9800) 损失值: 1.585058\n",
      "(迭代 221 / 9800) 损失值: 1.834793\n",
      "(迭代 223 / 9800) 损失值: 1.720518\n",
      "(迭代 225 / 9800) 损失值: 1.623339\n",
      "(迭代 227 / 9800) 损失值: 1.987607\n",
      "(迭代 229 / 9800) 损失值: 1.597042\n",
      "(迭代 231 / 9800) 损失值: 1.533966\n",
      "(迭代 233 / 9800) 损失值: 1.698381\n",
      "(迭代 235 / 9800) 损失值: 1.701220\n",
      "(迭代 237 / 9800) 损失值: 1.652729\n",
      "(迭代 239 / 9800) 损失值: 2.110093\n",
      "(迭代 241 / 9800) 损失值: 1.734058\n",
      "(迭代 243 / 9800) 损失值: 1.702769\n",
      "(迭代 245 / 9800) 损失值: 1.711049\n",
      "(迭代 247 / 9800) 损失值: 1.917496\n",
      "(迭代 249 / 9800) 损失值: 1.549907\n",
      "(迭代 251 / 9800) 损失值: 1.843834\n",
      "(迭代 253 / 9800) 损失值: 1.738030\n"
     ]
    }
   ],
   "source": [
    "model = ThreeLayerConvNet(weight_scale=0.001, hidden_dim=200, reg=0.001)\n",
    "\n",
    "trainer = Trainer(model, data,\n",
    "                num_epochs=10, batch_size=50,\n",
    "                update_rule='adam',\n",
    "                updater_config={\n",
    "                  'learning_rate': 1e-3,\n",
    "                },\n",
    "                verbose=True, print_every=2)\n",
    "trainer.train()"
   ]
  },
  {
   "cell_type": "code",
   "execution_count": null,
   "id": "5d2e3ca6",
   "metadata": {},
   "outputs": [],
   "source": []
  }
 ],
 "metadata": {
  "kernelspec": {
   "display_name": "Python 3 (ipykernel)",
   "language": "python",
   "name": "python3"
  },
  "language_info": {
   "codemirror_mode": {
    "name": "ipython",
    "version": 3
   },
   "file_extension": ".py",
   "mimetype": "text/x-python",
   "name": "python",
   "nbconvert_exporter": "python",
   "pygments_lexer": "ipython3",
   "version": "3.7.3"
  }
 },
 "nbformat": 4,
 "nbformat_minor": 5
}
