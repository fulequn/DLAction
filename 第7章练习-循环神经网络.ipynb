{
 "cells": [
  {
   "cell_type": "markdown",
   "id": "3c5859c2",
   "metadata": {},
   "source": [
    "本小节我们将使用 RNN 完成图像说明( Image Captioning)任务。该任务需要联合 CNN 与 RNN 一同学习，CNN 用于提取图像特征，RNN 用于生成图像特征所对应的说明文字。   \n",
    "\n",
    "在训练阶段，首先我们将图片放入卷积网络中进行特征提取，将其作为隐藏层h0的输入；然后将图片对应的文字描述一个单词接一个单词的输入到 RNN 中，而 RNN 输出则是当前单词的下一个预测单词。\n",
    "\n",
    "在测试阶段，我们将 RNN 预测的当前单词，作为下一时间片段的输入数据输入到 RNN 中。"
   ]
  },
  {
   "cell_type": "code",
   "execution_count": 1,
   "id": "46ef9953",
   "metadata": {},
   "outputs": [],
   "source": [
    "#-*- coding: utf-8 -*-\n",
    "import time, os, json\n",
    "import numpy as np\n",
    "import matplotlib.pyplot as plt\n",
    "from classifiers.chapter7 import *\n",
    "from utils import *\n",
    "\n",
    "%matplotlib inline\n",
    "plt.rcParams['figure.figsize'] =(10.0, 8.0) \n",
    "plt.rcParams['image.interpolation'] = 'nearest'\n",
    "plt.rcParams['image.cmap'] = 'gray'\n",
    "%load_ext autoreload\n",
    "%autoreload 2\n",
    "\n",
    "def rel_error(x, y):\n",
    "    \"\"\"相对误差\"\"\"\n",
    "    return np.max(np.abs(x - y) /(np.maximum(1e-8, np.abs(x) + np.abs(y))))"
   ]
  },
  {
   "cell_type": "markdown",
   "id": "83a679f7",
   "metadata": {},
   "source": [
    "### Microsoft COCO\n",
    "\n",
    "本练习将使用2014年发布的 [Microsoft COCO dataset](http://mscoco.org/)，其作为标准的图像说明测试数据，包含有80000个训练数据以及40000验证数据，使用该网址\"http://cs231n.stanford.edu/coco_captioning.zip\" 下载数据集，下载完毕后解压到datasets文件目录。\n",
    "\n",
    "该套数据集已经对数据使用VGG-16卷积网络进行了特征提取，分别存放在`train2014_vgg16_fc7.h5`和`val2014_vgg16_fc7.h5`\n",
    "\n",
    "如果想要缩短运行时间，其也将特征从4096降到了512维，分别存放在`train2014_vgg16_fc7_pca.h5`以及`val2014_vgg16_fc7_pca.h5`中\n",
    "\n",
    "原始图像大约有20GB，你可以使用`train2014_urls.txt`和`val2014_urls.txt`访问(需要翻墙)。\n",
    "\n",
    "直接处理字符串非常不高效，因此我们给每个词分配了字典ID方便我们查阅使用。因此，输入的序列数据其实是一条字典ID串，该文件存放在 `coco2014_vocab.json`。你需要使用`coco_utils.py`文件中的 `decode_captions`函数将ID转换为词向量。\n",
    "\n",
    "在训练RNN前，你需要使用记号 `<START>` 和 `<END>`标记句子的开头与结束。对于一些不常用的词我们使用`<UNK>` 进行替换。为了使句子长度相同，对于短句子，我们在 `<END>`标记后，填充`<NULL>` ，在训练时，不计算`<NULL>` 的损失与梯度。\n",
    "\n",
    "以上内容可能过于繁杂，我们已经默默处理好了，你知道即可。\n"
   ]
  },
  {
   "cell_type": "code",
   "execution_count": 2,
   "id": "b1555fc9",
   "metadata": {},
   "outputs": [
    {
     "name": "stdout",
     "output_type": "stream",
     "text": [
      "train_captions <class 'numpy.ndarray'> (400135, 17) int32\n",
      "train_image_idxs <class 'numpy.ndarray'> (400135,) int32\n",
      "val_captions <class 'numpy.ndarray'> (195954, 17) int32\n",
      "val_image_idxs <class 'numpy.ndarray'> (195954,) int32\n",
      "train_features <class 'numpy.ndarray'> (82783, 512) float32\n",
      "val_features <class 'numpy.ndarray'> (40504, 512) float32\n",
      "idx_to_word <class 'list'> 1004\n",
      "word_to_idx <class 'dict'> 1004\n",
      "train_urls <class 'numpy.ndarray'> (82783,) <U63\n",
      "val_urls <class 'numpy.ndarray'> (40504,) <U63\n"
     ]
    }
   ],
   "source": [
    "data = load_coco_data(pca_features=True)\n",
    "for k, v in data.items():\n",
    "    if type(v) == np.ndarray:\n",
    "        print(k, type(v), v.shape, v.dtype)\n",
    "    else:\n",
    "        print(k, type(v), len(v))"
   ]
  },
  {
   "cell_type": "markdown",
   "id": "8a869da9",
   "metadata": {},
   "source": [
    "### RNN单步前向传播\n",
    "\n",
    "打开 `classifiers\\chapter7\\rnn_layers.py`文件。完成`rnn_step_forward`函数，实现RNN的单步前向传播。\n",
    "\n",
    "完成后运行下列代码，检验你的实现。"
   ]
  },
  {
   "cell_type": "code",
   "execution_count": 3,
   "id": "d141d00a",
   "metadata": {},
   "outputs": [
    {
     "name": "stdout",
     "output_type": "stream",
     "text": [
      "next_h 误差:  6.292421426471037e-09\n"
     ]
    }
   ],
   "source": [
    "N, D, H = 3, 10, 4\n",
    "\n",
    "x = np.linspace(-0.4, 0.7, num=N*D).reshape(N, D)\n",
    "prev_h = np.linspace(-0.2, 0.5, num=N*H).reshape(N, H)\n",
    "Wx = np.linspace(-0.1, 0.9, num=D*H).reshape(D, H)\n",
    "Wh = np.linspace(-0.3, 0.7, num=H*H).reshape(H, H)\n",
    "b = np.linspace(-0.2, 0.4, num=H)\n",
    "\n",
    "next_h, _ = rnn_step_forward(x, prev_h, Wx, Wh, b)\n",
    "expected_next_h = np.asarray([\n",
    "    [-0.58172089, -0.50182032, -0.41232771, -0.31410098],\n",
    "    [ 0.66854692,    0.79562378,    0.87755553,    0.92795967],\n",
    "    [ 0.97934501,    0.99144213,    0.99646691,    0.99854353]])\n",
    "\n",
    "print('next_h 误差: ', rel_error(expected_next_h, next_h))"
   ]
  },
  {
   "cell_type": "markdown",
   "id": "60ad8a0c",
   "metadata": {},
   "source": [
    "### RNN单步反向传播\n",
    "\n",
    "打开 classifiers\\chapter7\\rnn_layers.py文件。完成`rnn_step_backward`函数，实现RNN的单步反向传播。\n",
    "\n",
    "完成后运行下列代码，检验你的实现。你的相对误差应该小于`1e-8`"
   ]
  },
  {
   "cell_type": "code",
   "execution_count": 4,
   "id": "c26cf3e7",
   "metadata": {},
   "outputs": [
    {
     "name": "stdout",
     "output_type": "stream",
     "text": [
      "dx 误差:  1.310256557537144e-09\n",
      "dprev_h 误差:  2.1172970274127977e-10\n",
      "dWx 误差:  1.6514816613293213e-08\n",
      "dWh 误差:  1.770717277127576e-09\n",
      "db 误差:  3.152117259170483e-10\n"
     ]
    }
   ],
   "source": [
    "N, D, H = 4, 5, 6\n",
    "x = np.random.randn(N, D)\n",
    "h = np.random.randn(N, H)\n",
    "Wx = np.random.randn(D, H)\n",
    "Wh = np.random.randn(H, H)\n",
    "b = np.random.randn(H)\n",
    "\n",
    "out, cache = rnn_step_forward(x, h, Wx, Wh, b)\n",
    "\n",
    "dnext_h = np.random.randn(*out.shape)\n",
    "\n",
    "# 计算前向传播后的各个值\n",
    "fx = lambda x: rnn_step_forward(x, h, Wx, Wh, b)[0]\n",
    "fh = lambda prev_h: rnn_step_forward(x, h, Wx, Wh, b)[0]\n",
    "fWx = lambda Wx: rnn_step_forward(x, h, Wx, Wh, b)[0]\n",
    "fWh = lambda Wh: rnn_step_forward(x, h, Wx, Wh, b)[0]\n",
    "fb = lambda b: rnn_step_forward(x, h, Wx, Wh, b)[0]\n",
    "\n",
    "dx_num = eval_numerical_gradient_array(fx, x, dnext_h)\n",
    "dprev_h_num = eval_numerical_gradient_array(fh, h, dnext_h)\n",
    "dWx_num = eval_numerical_gradient_array(fWx, Wx, dnext_h)\n",
    "dWh_num = eval_numerical_gradient_array(fWh, Wh, dnext_h)\n",
    "db_num = eval_numerical_gradient_array(fb, b, dnext_h)\n",
    "\n",
    "dx, dprev_h, dWx, dWh, db = rnn_step_backward(dnext_h, cache)\n",
    "\n",
    "print('dx 误差: ', rel_error(dx_num, dx))\n",
    "print('dprev_h 误差: ', rel_error(dprev_h_num, dprev_h))\n",
    "print('dWx 误差: ', rel_error(dWx_num, dWx))\n",
    "print('dWh 误差: ', rel_error(dWh_num, dWh))\n",
    "print('db 误差: ', rel_error(db_num, db))"
   ]
  },
  {
   "cell_type": "markdown",
   "id": "581f052e",
   "metadata": {},
   "source": [
    "### RNN时序前向传播\n",
    "\n",
    "现在你需要将单步RNN组合起来，实现完整的时序RNN前向传播过程\n",
    "\n",
    "打开    `classifiers\\chapter7\\rnn_layers.py` ,完成 `rnn_forward`函数编码。你的相对误差应该要小于`1e-7`"
   ]
  },
  {
   "cell_type": "code",
   "execution_count": 5,
   "id": "2af42335",
   "metadata": {},
   "outputs": [
    {
     "name": "stdout",
     "output_type": "stream",
     "text": [
      "h 误差:  7.728466180186066e-08\n"
     ]
    }
   ],
   "source": [
    "N, T, D, H = 2, 3, 4, 5\n",
    "\n",
    "x = np.linspace(-0.1, 0.3, num=N*T*D).reshape(N, T, D)\n",
    "h0 = np.linspace(-0.3, 0.1, num=N*H).reshape(N, H)\n",
    "Wx = np.linspace(-0.2, 0.4, num=D*H).reshape(D, H)\n",
    "Wh = np.linspace(-0.4, 0.1, num=H*H).reshape(H, H)\n",
    "b = np.linspace(-0.7, 0.1, num=H)\n",
    "\n",
    "h, _ = rnn_forward(x, h0, Wx, Wh, b)\n",
    "expected_h = np.asarray([\n",
    "    [\n",
    "        [-0.42070749, -0.27279261, -0.11074945,    0.05740409,    0.22236251],\n",
    "        [-0.39525808, -0.22554661, -0.0409454,     0.14649412,    0.32397316],\n",
    "        [-0.42305111, -0.24223728, -0.04287027,    0.15997045,    0.35014525],\n",
    "    ],\n",
    "    [\n",
    "        [-0.55857474, -0.39065825, -0.19198182,    0.02378408,    0.23735671],\n",
    "        [-0.27150199, -0.07088804,    0.13562939,    0.33099728,    0.50158768],\n",
    "        [-0.51014825, -0.30524429, -0.06755202,    0.17806392,    0.40333043]]])\n",
    "print('h 误差: ', rel_error(expected_h, h))"
   ]
  },
  {
   "cell_type": "markdown",
   "id": "f172cd1c",
   "metadata": {},
   "source": [
    "### RNN时序反向传播\n",
    "现在你需要将单步RNN反向传播组合起来，实现完整的时序RNN反向传播过程\n",
    "\n",
    "打开 `classifiers\\chapter7\\rnn_layers.py`    ,完成 `rnn_backward` 函数编码。"
   ]
  },
  {
   "cell_type": "code",
   "execution_count": 6,
   "id": "88af8920",
   "metadata": {},
   "outputs": [
    {
     "name": "stdout",
     "output_type": "stream",
     "text": [
      "dx 误差:  3.019690437635004e-09\n",
      "dh0 误差:  2.1293713568630968e-10\n",
      "dWx 误差:  1.227642349941746e-09\n",
      "dWh 误差:  1.8455612502078363e-09\n",
      "db 误差:  1.347211901044371e-10\n"
     ]
    }
   ],
   "source": [
    "N, D, T, H = 2, 3, 10, 5\n",
    "\n",
    "x = np.random.randn(N, T, D)\n",
    "h0 = np.random.randn(N, H)\n",
    "Wx = np.random.randn(D, H)\n",
    "Wh = np.random.randn(H, H)\n",
    "b = np.random.randn(H)\n",
    "\n",
    "out, cache = rnn_forward(x, h0, Wx, Wh, b)\n",
    "\n",
    "dout = np.random.randn(*out.shape)\n",
    "\n",
    "dx, dh0, dWx, dWh, db = rnn_backward(dout, cache)\n",
    "\n",
    "fx = lambda x: rnn_forward(x, h0, Wx, Wh, b)[0]\n",
    "fh0 = lambda h0: rnn_forward(x, h0, Wx, Wh, b)[0]\n",
    "fWx = lambda Wx: rnn_forward(x, h0, Wx, Wh, b)[0]\n",
    "fWh = lambda Wh: rnn_forward(x, h0, Wx, Wh, b)[0]\n",
    "fb = lambda b: rnn_forward(x, h0, Wx, Wh, b)[0]\n",
    "\n",
    "dx_num = eval_numerical_gradient_array(fx, x, dout)\n",
    "dh0_num = eval_numerical_gradient_array(fh0, h0, dout)\n",
    "dWx_num = eval_numerical_gradient_array(fWx, Wx, dout)\n",
    "dWh_num = eval_numerical_gradient_array(fWh, Wh, dout)\n",
    "db_num = eval_numerical_gradient_array(fb, b, dout)\n",
    "\n",
    "print('dx 误差: ', rel_error(dx_num, dx))\n",
    "print('dh0 误差: ', rel_error(dh0_num, dh0))\n",
    "print('dWx 误差: ', rel_error(dWx_num, dWx))\n",
    "print('dWh 误差: ', rel_error(dWh_num, dWh))\n",
    "print('db 误差: ', rel_error(db_num, db))"
   ]
  },
  {
   "cell_type": "markdown",
   "id": "b6704286",
   "metadata": {},
   "source": [
    "### 词嵌入前向传播\n",
    "\n",
    "现在，需要将时序数据（索引串）转换为词向量。\n",
    "\n",
    "打开 `classifiers\\chapter7\\rnn_layers.py`文件，实现 `word_embedding_forward`函数，将单词索引，转化为词向量。\n",
    "\n",
    "运行下列代码，你的实现误差大约在范围`1e-8`"
   ]
  },
  {
   "cell_type": "code",
   "execution_count": 7,
   "id": "4a8b5550",
   "metadata": {},
   "outputs": [
    {
     "name": "stdout",
     "output_type": "stream",
     "text": [
      "out 误差:  1.0000000094736443e-08\n"
     ]
    }
   ],
   "source": [
    "N, T, V, D = 2, 4, 5, 3\n",
    "\n",
    "x = np.asarray([[0, 3, 1, 2], [2, 1, 0, 3]])\n",
    "W = np.linspace(0, 1, num=V*D).reshape(V, D)\n",
    "\n",
    "out, _ = word_embedding_forward(x, W)\n",
    "expected_out = np.asarray([\n",
    " [[ 0.,                    0.07142857,    0.14285714],\n",
    "    [ 0.64285714,    0.71428571,    0.78571429],\n",
    "    [ 0.21428571,    0.28571429,    0.35714286],\n",
    "    [ 0.42857143,    0.5,                 0.57142857]],\n",
    " [[ 0.42857143,    0.5,                 0.57142857],\n",
    "    [ 0.21428571,    0.28571429,    0.35714286],\n",
    "    [ 0.,                    0.07142857,    0.14285714],\n",
    "    [ 0.64285714,    0.71428571,    0.78571429]]])\n",
    "\n",
    "print('out 误差: ', rel_error(expected_out, out))"
   ]
  },
  {
   "cell_type": "markdown",
   "id": "ae44f8a4",
   "metadata": {},
   "source": [
    "### 词嵌入反向传播\n",
    "实现 `word_embedding_backward`函数，完成词嵌入的反向传播。\n",
    "\n",
    "运行下列梯度检验代码，你的误差应该小于`1e-11`"
   ]
  },
  {
   "cell_type": "code",
   "execution_count": 8,
   "id": "2d98c949",
   "metadata": {},
   "outputs": [
    {
     "name": "stdout",
     "output_type": "stream",
     "text": [
      "dW 误差:  3.2759708946363888e-12\n"
     ]
    }
   ],
   "source": [
    "N, T, V, D = 50, 3, 5, 6\n",
    "\n",
    "x = np.random.randint(V, size=(N, T))\n",
    "W = np.random.randn(V, D)\n",
    "\n",
    "out, cache = word_embedding_forward(x, W)\n",
    "dout = np.random.randn(*out.shape)\n",
    "dW = word_embedding_backward(dout, cache)\n",
    "\n",
    "f = lambda W: word_embedding_forward(x, W)[0]\n",
    "dW_num = eval_numerical_gradient_array(f, W, dout)\n",
    "\n",
    "print('dW 误差: ', rel_error(dW, dW_num))"
   ]
  },
  {
   "cell_type": "markdown",
   "id": "84c5461d",
   "metadata": {},
   "source": [
    "### 时序输出仿射层\n",
    "\n",
    "RNN隐藏层到输出层传播和前馈网络类似，只是其数据为(N,T,D)的三维数据。\n",
    "\n",
    "我们已经将其前向传播，反向传播分别实现在了`temporal_affine_forward`和 `temporal_affine_backward`函数中。\n",
    "\n",
    "打开`rnn_layers.py`文件，阅读相关代码，并运行下列代码进行检验"
   ]
  },
  {
   "cell_type": "code",
   "execution_count": 9,
   "id": "4458d96f",
   "metadata": {},
   "outputs": [
    {
     "name": "stdout",
     "output_type": "stream",
     "text": [
      "dx 误差:  1.1680190237299396e-09\n",
      "dw 误差:  1.195903277097059e-11\n",
      "db 误差:  1.0561424698310812e-11\n"
     ]
    }
   ],
   "source": [
    "N, T, D, M = 2, 3, 4, 5\n",
    "x = np.random.randn(N, T, D)\n",
    "w = np.random.randn(D, M)\n",
    "b = np.random.randn(M)\n",
    "\n",
    "out, cache = temporal_affine_forward(x, w, b)\n",
    "\n",
    "dout = np.random.randn(*out.shape)\n",
    "\n",
    "fx = lambda x: temporal_affine_forward(x, w, b)[0]\n",
    "fw = lambda w: temporal_affine_forward(x, w, b)[0]\n",
    "fb = lambda b: temporal_affine_forward(x, w, b)[0]\n",
    "\n",
    "dx_num = eval_numerical_gradient_array(fx, x, dout)\n",
    "dw_num = eval_numerical_gradient_array(fw, w, dout)\n",
    "db_num = eval_numerical_gradient_array(fb, b, dout)\n",
    "\n",
    "dx, dw, db = temporal_affine_backward(dout, cache)\n",
    "\n",
    "print('dx 误差: ', rel_error(dx_num, dx))\n",
    "print('dw 误差: ', rel_error(dw_num, dw))\n",
    "print('db 误差: ', rel_error(db_num, db))"
   ]
  },
  {
   "cell_type": "markdown",
   "id": "342db3ce",
   "metadata": {},
   "source": [
    "### 时序Softmax损失函数\n",
    "\n",
    "在使用RNN进行语言建模时，每一时间步我们都会预测下一个单词对应单词字典中的单词得分索引。每一时间片段我们使用softmax作为损失函数，而整个序列的损失值，我们是将每一时间片段的损失值加起来取平均值。但句子的长度是不相同的，为了使输入对齐，我们填充`<NULL>`补全短句子。但这些填充的 `<NULL>`标记不应该计算在损失值或梯度值内，我们需要使用 `mask`进行过滤。我们已经将其写进`rnn_layers.py`文件中的 `temporal_softmax_loss` 函数，阅读即可。"
   ]
  },
  {
   "cell_type": "code",
   "execution_count": 10,
   "id": "dce5b8f6",
   "metadata": {},
   "outputs": [
    {
     "name": "stdout",
     "output_type": "stream",
     "text": [
      "2.302582382261073\n",
      "23.02576008490865\n",
      "2.34310410100737\n",
      "dx 误差:  5.811536038658937e-08\n"
     ]
    }
   ],
   "source": [
    "N, T, V = 100, 1, 10\n",
    "\n",
    "def check_loss(N, T, V, p):\n",
    "    x = 0.001 * np.random.randn(N, T, V)\n",
    "    y = np.random.randint(V, size=(N, T))\n",
    "    mask = np.random.rand(N, T) <= p\n",
    "    print(temporal_softmax_loss(x, y, mask)[0])\n",
    "    \n",
    "check_loss(100, 1, 10, 1.0)     # 损失值大约为 2.3\n",
    "check_loss(100, 10, 10, 1.0)    # 损失值大约为 23\n",
    "check_loss(5000, 10, 10, 0.1) # 损失值大约为 2.3\n",
    "\n",
    "N, T, V = 7, 8, 9\n",
    "\n",
    "x = np.random.randn(N, T, V)\n",
    "y = np.random.randint(V, size=(N, T))\n",
    "mask =(np.random.rand(N, T) > 0.5)\n",
    "\n",
    "loss, dx = temporal_softmax_loss(x, y, mask, verbose=False)\n",
    "\n",
    "dx_num = eval_numerical_gradient(\n",
    "        lambda x: temporal_softmax_loss(x, y, mask)[0], x, verbose=False)\n",
    "\n",
    "print('dx 误差: ', rel_error(dx, dx_num))"
   ]
  },
  {
   "cell_type": "markdown",
   "id": "d2d9fd8c",
   "metadata": {},
   "source": [
    "## RNN图像说明任务\n",
    "\n",
    "我们已经实现了我所需的各项零件，接下来我们就用RNN完成图片说明任务。打开`rnn.py`文件，阅读`CaptioningRNN`类。你需要实现RNN的`loss`函数，以及测试阶段使用的`sample`函数。目前你只需实现`cell_type = 'rnn'`即可，之后再实现LSTM部分内容。\n",
    "\n",
    "完成后运行下列代码，你的损失误差应该小于 `1e-10`"
   ]
  },
  {
   "cell_type": "code",
   "execution_count": 11,
   "id": "07d8f79f",
   "metadata": {},
   "outputs": [
    {
     "name": "stdout",
     "output_type": "stream",
     "text": [
      "损失:  9.832355910027388\n",
      "期望损失:  9.83235591003\n",
      "误差:  2.611244553918368e-12\n"
     ]
    }
   ],
   "source": [
    "N, D, W, H = 10, 20, 30, 40\n",
    "word_to_idx = {'<NULL>': 0, 'cat': 2, 'dog': 3}\n",
    "V = len(word_to_idx)\n",
    "T = 13\n",
    "\n",
    "model = CaptioningRNN(word_to_idx,\n",
    "                    input_dim=D,\n",
    "                    wordvec_dim=W,\n",
    "                    hidden_dim=H,\n",
    "                    cell_type='rnn')\n",
    "\n",
    "for k, v in model.params.items():\n",
    "    model.params[k] = np.linspace(-1.4, 1.3, num=v.size).reshape(*v.shape)\n",
    "\n",
    "features = np.linspace(-1.5, 0.3, num=(N * D)).reshape(N, D)\n",
    "captions =(np.arange(N * T) % V).reshape(N, T)\n",
    "\n",
    "loss, grads = model.loss(features, captions)\n",
    "expected_loss = 9.83235591003\n",
    "\n",
    "print('损失: ', loss)\n",
    "print('期望损失: ', expected_loss)\n",
    "print('误差: ', abs(loss - expected_loss))"
   ]
  },
  {
   "cell_type": "markdown",
   "id": "b12f65a0",
   "metadata": {},
   "source": [
    " `CaptioningRNN` 梯度检验，期望误差在 `1e-7` "
   ]
  },
  {
   "cell_type": "code",
   "execution_count": 12,
   "id": "05f02acb",
   "metadata": {},
   "outputs": [
    {
     "name": "stdout",
     "output_type": "stream",
     "text": [
      "W_embed 相对误差: 4.599221e-09\n",
      "W_proj 相对误差: 5.548484e-09\n",
      "W_vocab 相对误差: 3.479308e-08\n",
      "Wh 相对误差: 1.954925e-08\n",
      "Wx 相对误差: 8.715990e-06\n",
      "b 相对误差: 2.182615e-09\n",
      "b_proj 相对误差: 4.525645e-09\n",
      "b_vocab 相对误差: 1.879290e-09\n"
     ]
    }
   ],
   "source": [
    "batch_size = 2\n",
    "timesteps = 3\n",
    "input_dim = 4\n",
    "wordvec_dim = 5\n",
    "hidden_dim = 6\n",
    "word_to_idx = {'<NULL>': 0, 'cat': 2, 'dog': 3}\n",
    "vocab_size = len(word_to_idx)\n",
    "\n",
    "captions = np.random.randint(vocab_size, size=(batch_size,\n",
    "                                                                                             timesteps))\n",
    "features = np.random.randn(batch_size, input_dim)\n",
    "\n",
    "model = CaptioningRNN(word_to_idx,\n",
    "                    input_dim=input_dim,\n",
    "                    wordvec_dim=wordvec_dim,\n",
    "                    hidden_dim=hidden_dim,\n",
    "                    cell_type='rnn'\n",
    "                )\n",
    "\n",
    "loss, grads = model.loss(features, captions)\n",
    "\n",
    "for param_name in sorted(grads):\n",
    "    f = lambda _: model.loss(features, captions)[0]\n",
    "    param_grad_num = eval_numerical_gradient(f, model.params[param_name], \n",
    "                         verbose=False, h=1e-6)\n",
    "    e = rel_error(param_grad_num, grads[param_name])\n",
    "    print('%s 相对误差: %e' %(param_name, e))"
   ]
  },
  {
   "cell_type": "markdown",
   "id": "a3882f71",
   "metadata": {},
   "source": [
    "### 过拟合小量数据"
   ]
  },
  {
   "cell_type": "code",
   "execution_count": 13,
   "id": "82f765ad",
   "metadata": {},
   "outputs": [
    {
     "name": "stdout",
     "output_type": "stream",
     "text": [
      "(Iteration 1 / 100) loss: 87.278615\n",
      "(Iteration 11 / 100) loss: 24.241030\n",
      "(Iteration 21 / 100) loss: 6.001595\n",
      "(Iteration 31 / 100) loss: 1.049757\n",
      "(Iteration 41 / 100) loss: 0.638685\n",
      "(Iteration 51 / 100) loss: 0.245997\n",
      "(Iteration 61 / 100) loss: 0.199264\n",
      "(Iteration 71 / 100) loss: 0.145133\n",
      "(Iteration 81 / 100) loss: 0.130924\n",
      "(Iteration 91 / 100) loss: 0.118513\n"
     ]
    },
    {
     "data": {
      "image/png": "[encoded data removed]",
      "text/plain": [
       "<Figure size 720x576 with 1 Axes>"
      ]
     },
     "metadata": {
      "needs_background": "light"
     },
     "output_type": "display_data"
    }
   ],
   "source": [
    "small_data = load_coco_data(max_train=50)\n",
    "\n",
    "small_rnn_model = CaptioningRNN(\n",
    "                    cell_type='rnn',\n",
    "                    word_to_idx=data['word_to_idx'],\n",
    "                    input_dim=data['train_features'].shape[1],\n",
    "                    hidden_dim=512,\n",
    "                    wordvec_dim=256,\n",
    "                )\n",
    "\n",
    "small_rnn_solver = CaptioningTrainer(small_rnn_model, small_data,\n",
    "                     update_rule='adam',\n",
    "                     num_epochs=50,\n",
    "                     batch_size=25,\n",
    "                     updater_config={\n",
    "                         'learning_rate': 5e-3,\n",
    "                     },\n",
    "                     lr_decay=0.95,\n",
    "                     verbose=True, print_every=10,\n",
    "                 )\n",
    "\n",
    "small_rnn_solver.train()\n",
    "\n",
    "# Plot the training losses\n",
    "plt.plot(small_rnn_solver.loss_history)\n",
    "plt.xlabel('Iteration')\n",
    "plt.ylabel('Loss')\n",
    "plt.title('Training loss history')\n",
    "plt.show()"
   ]
  },
  {
   "cell_type": "markdown",
   "id": "e34dde0e",
   "metadata": {},
   "source": [
    "## LSTM\n",
    "\n",
    "### LSTM单步前向传播\n",
    "\n",
    "打开 `rnn_layers.py`文件，完成lstm_step_forward代码，实现LSTM的单步前向传播。\n",
    "\n",
    "运行下列代码，你的实现误差应该在` 1e-8`以内。"
   ]
  },
  {
   "cell_type": "code",
   "execution_count": 14,
   "id": "392979cc",
   "metadata": {},
   "outputs": [
    {
     "name": "stdout",
     "output_type": "stream",
     "text": [
      "next_h 误差:  5.7054131185818695e-09\n",
      "next_c 误差:  5.8143123088804145e-09\n"
     ]
    }
   ],
   "source": [
    "N, D, H = 3, 4, 5\n",
    "x = np.linspace(-0.4, 1.2, num=N*D).reshape(N, D)\n",
    "prev_h = np.linspace(-0.3, 0.7, num=N*H).reshape(N, H)\n",
    "prev_c = np.linspace(-0.4, 0.9, num=N*H).reshape(N, H)\n",
    "Wx = np.linspace(-2.1, 1.3, num=4*D*H).reshape(D, 4 * H)\n",
    "Wh = np.linspace(-0.7, 2.2, num=4*H*H).reshape(H, 4 * H)\n",
    "b = np.linspace(0.3, 0.7, num=4*H)\n",
    "\n",
    "next_h, next_c, cache = lstm_step_forward(x, prev_h, prev_c, Wx, Wh, b)\n",
    "\n",
    "expected_next_h = np.asarray([\n",
    "        [ 0.24635157,    0.28610883,    0.32240467,    0.35525807,    0.38474904],\n",
    "        [ 0.49223563,    0.55611431,    0.61507696,    0.66844003,    0.7159181 ],\n",
    "        [ 0.56735664,    0.66310127,    0.74419266,    0.80889665,    0.858299    ]])\n",
    "expected_next_c = np.asarray([\n",
    "        [ 0.32986176,    0.39145139,    0.451556,        0.51014116,    0.56717407],\n",
    "        [ 0.66382255,    0.76674007,    0.87195994,    0.97902709,    1.08751345],\n",
    "        [ 0.74192008,    0.90592151,    1.07717006,    1.25120233,    1.42395676]])\n",
    "\n",
    "print('next_h 误差: ', rel_error(expected_next_h, next_h))\n",
    "print('next_c 误差: ', rel_error(expected_next_c, next_c))"
   ]
  },
  {
   "cell_type": "markdown",
   "id": "8e60bc19",
   "metadata": {},
   "source": [
    "### LSTM:单步反向传播\n",
    "\n",
    "打开 rnn_layers.py文件，完成lstm_step_backward函数代码，实现LSTM的单步反向传播。\n",
    "\n",
    "运行下列代码，你的期望误差应该在1e-8以内"
   ]
  },
  {
   "cell_type": "code",
   "execution_count": 15,
   "id": "fa9aceb4",
   "metadata": {},
   "outputs": [
    {
     "name": "stdout",
     "output_type": "stream",
     "text": [
      "dx 误差:  2.36114504649104e-10\n",
      "dh 误差:  5.784107694134561e-10\n",
      "dc 误差:  6.99069012739093e-10\n",
      "dWx 误差:  6.291017711941009e-08\n",
      "dWh 误差:  4.4809579254128135e-09\n",
      "db 误差:  2.551473660645273e-10\n"
     ]
    }
   ],
   "source": [
    "N, D, H = 4, 5, 6\n",
    "x = np.random.randn(N, D)\n",
    "prev_h = np.random.randn(N, H)\n",
    "prev_c = np.random.randn(N, H)\n",
    "Wx = np.random.randn(D, 4 * H)\n",
    "Wh = np.random.randn(H, 4 * H)\n",
    "b = np.random.randn(4 * H)\n",
    "\n",
    "next_h, next_c, cache = lstm_step_forward(x, prev_h, prev_c, Wx, Wh, b)\n",
    "\n",
    "dnext_h = np.random.randn(*next_h.shape)\n",
    "dnext_c = np.random.randn(*next_c.shape)\n",
    "\n",
    "fx_h = lambda x: lstm_step_forward(x, prev_h, prev_c, Wx, Wh, b)[0]\n",
    "fh_h = lambda h: lstm_step_forward(x, prev_h, prev_c, Wx, Wh, b)[0]\n",
    "fc_h = lambda c: lstm_step_forward(x, prev_h, prev_c, Wx, Wh, b)[0]\n",
    "fWx_h = lambda Wx: lstm_step_forward(x, prev_h, prev_c, Wx, Wh, b)[0]\n",
    "fWh_h = lambda Wh: lstm_step_forward(x, prev_h, prev_c, Wx, Wh, b)[0]\n",
    "fb_h = lambda b: lstm_step_forward(x, prev_h, prev_c, Wx, Wh, b)[0]\n",
    "\n",
    "fx_c = lambda x: lstm_step_forward(x, prev_h, prev_c, Wx, Wh, b)[1]\n",
    "fh_c = lambda h: lstm_step_forward(x, prev_h, prev_c, Wx, Wh, b)[1]\n",
    "fc_c = lambda c: lstm_step_forward(x, prev_h, prev_c, Wx, Wh, b)[1]\n",
    "fWx_c = lambda Wx: lstm_step_forward(x, prev_h, prev_c, Wx, Wh, b)[1]\n",
    "fWh_c = lambda Wh: lstm_step_forward(x, prev_h, prev_c, Wx, Wh, b)[1]\n",
    "fb_c = lambda b: lstm_step_forward(x, prev_h, prev_c, Wx, Wh, b)[1]\n",
    "\n",
    "num_grad = eval_numerical_gradient_array\n",
    "\n",
    "dx_num = num_grad(fx_h, x, dnext_h) + num_grad(fx_c, x, dnext_c)\n",
    "dh_num = num_grad(fh_h, prev_h, dnext_h) + num_grad(fh_c, prev_h, dnext_c)\n",
    "dc_num = num_grad(fc_h, prev_c, dnext_h) + num_grad(fc_c, prev_c, dnext_c)\n",
    "dWx_num = num_grad(fWx_h, Wx, dnext_h) + num_grad(fWx_c, Wx, dnext_c)\n",
    "dWh_num = num_grad(fWh_h, Wh, dnext_h) + num_grad(fWh_c, Wh, dnext_c)\n",
    "db_num = num_grad(fb_h, b, dnext_h) + num_grad(fb_c, b, dnext_c)\n",
    "\n",
    "dx, dh, dc, dWx, dWh, db = lstm_step_backward(dnext_h, dnext_c, cache)\n",
    "\n",
    "print('dx 误差: ', rel_error(dx_num, dx))\n",
    "print('dh 误差: ', rel_error(dh_num, dh))\n",
    "print('dc 误差: ', rel_error(dc_num, dc))\n",
    "print('dWx 误差: ', rel_error(dWx_num, dWx))\n",
    "print('dWh 误差: ', rel_error(dWh_num, dWh))\n",
    "print('db 误差: ', rel_error(db_num, db))"
   ]
  },
  {
   "cell_type": "markdown",
   "id": "de0fe633",
   "metadata": {},
   "source": [
    "### LSTM前向传播\n",
    "\n",
    "现在将单步传播组合起来，完成完整的时序传播。打开`rnn_layers.py` 文件，完成`lstm_forward`函数代码，实现LSTM的前向传播。\n",
    "\n",
    "运行下列代码，你的实现误差应该在1e-7以内"
   ]
  },
  {
   "cell_type": "code",
   "execution_count": 16,
   "id": "160ac5e2",
   "metadata": {},
   "outputs": [
    {
     "name": "stdout",
     "output_type": "stream",
     "text": [
      "h 误差:  8.610537452106624e-08\n"
     ]
    }
   ],
   "source": [
    "N, D, H, T = 2, 5, 4, 3\n",
    "x = np.linspace(-0.4, 0.6, num=N*T*D).reshape(N, T, D)\n",
    "h0 = np.linspace(-0.4, 0.8, num=N*H).reshape(N, H)\n",
    "Wx = np.linspace(-0.2, 0.9, num=4*D*H).reshape(D, 4 * H)\n",
    "Wh = np.linspace(-0.3, 0.6, num=4*H*H).reshape(H, 4 * H)\n",
    "b = np.linspace(0.2, 0.7, num=4*H)\n",
    "\n",
    "h, cache = lstm_forward(x, h0, Wx, Wh, b)\n",
    "\n",
    "expected_h = np.asarray([\n",
    " [[ 0.01764008,    0.01823233,    0.01882671,    0.0194232 ],\n",
    "    [ 0.11287491,    0.12146228,    0.13018446,    0.13902939],\n",
    "    [ 0.31358768,    0.33338627,    0.35304453,    0.37250975]],\n",
    " [[ 0.45767879,    0.4761092,     0.4936887,     0.51041945],\n",
    "    [ 0.6704845,     0.69350089,    0.71486014,    0.7346449 ],\n",
    "    [ 0.81733511,    0.83677871,    0.85403753,    0.86935314]]])\n",
    "\n",
    "print('h 误差: ', rel_error(expected_h, h))"
   ]
  },
  {
   "cell_type": "markdown",
   "id": "e5105a16",
   "metadata": {},
   "source": [
    "### LSTM反向传播\n",
    "\n",
    "现在将单步反向传播组合起来，完成完整的时序反向传播。打开`rnn_layers.py` 文件，完成`lstm_backward` 函数代码，实现LSTM的反向传播。\n",
    "\n",
    "运行下列代码。你的误差大约在`1e-8` "
   ]
  },
  {
   "cell_type": "code",
   "execution_count": 17,
   "id": "33c81e07",
   "metadata": {},
   "outputs": [
    {
     "name": "stdout",
     "output_type": "stream",
     "text": [
      "dx 误差:  7.278901660157261e-10\n",
      "dh0 误差:  7.278901660157261e-10\n",
      "dWx 误差:  7.278901660157261e-10\n",
      "dWh 误差:  7.278901660157261e-10\n",
      "db 误差:  7.278901660157261e-10\n"
     ]
    }
   ],
   "source": [
    "\n",
    "N, D, T, H = 2, 3, 10, 6\n",
    "\n",
    "x = np.random.randn(N, T, D)\n",
    "h0 = np.random.randn(N, H)\n",
    "Wx = np.random.randn(D, 4 * H)\n",
    "Wh = np.random.randn(H, 4 * H)\n",
    "b = np.random.randn(4 * H)\n",
    "\n",
    "out, cache = lstm_forward(x, h0, Wx, Wh, b)\n",
    "\n",
    "dout = np.random.randn(*out.shape)\n",
    "\n",
    "dx, dh0, dWx, dWh, db = lstm_backward(dout, cache)\n",
    "\n",
    "fx = lambda x: lstm_forward(x, h0, Wx, Wh, b)[0]\n",
    "fh0 = lambda h0: lstm_forward(x, h0, Wx, Wh, b)[0]\n",
    "fWx = lambda Wx: lstm_forward(x, h0, Wx, Wh, b)[0]\n",
    "fWh = lambda Wh: lstm_forward(x, h0, Wx, Wh, b)[0]\n",
    "fb = lambda b: lstm_forward(x, h0, Wx, Wh, b)[0]\n",
    "\n",
    "dx_num = eval_numerical_gradient_array(fx, x, dout)\n",
    "dh0_num = eval_numerical_gradient_array(fh0, h0, dout)\n",
    "dWx_num = eval_numerical_gradient_array(fWx, Wx, dout)\n",
    "dWh_num = eval_numerical_gradient_array(fWh, Wh, dout)\n",
    "db_num = eval_numerical_gradient_array(fb, b, dout)\n",
    "\n",
    "print('dx 误差: ', rel_error(dx_num, dx))\n",
    "print('dh0 误差: ', rel_error(dx_num, dx))\n",
    "print('dWx 误差: ', rel_error(dx_num, dx))\n",
    "print('dWh 误差: ', rel_error(dx_num, dx))\n",
    "print('db 误差: ', rel_error(dx_num, dx))"
   ]
  },
  {
   "cell_type": "markdown",
   "id": "b49c0b59",
   "metadata": {},
   "source": [
    "### LSTM图片说明任务\n",
    "\n",
    "打开`rnn.py`文件，完成LSTM模式下的损失计算。"
   ]
  },
  {
   "cell_type": "code",
   "execution_count": 18,
   "id": "5421446c",
   "metadata": {},
   "outputs": [
    {
     "name": "stdout",
     "output_type": "stream",
     "text": [
      "损失值:  9.82445935443226\n",
      "期望损失值:  9.82445935443\n",
      "误差:  2.261302256556519e-12\n"
     ]
    }
   ],
   "source": [
    "N, D, W, H = 10, 20, 30, 40\n",
    "word_to_idx = {'<NULL>': 0, 'cat': 2, 'dog': 3}\n",
    "V = len(word_to_idx)\n",
    "T = 13\n",
    "\n",
    "model = CaptioningRNN(word_to_idx,\n",
    "                    input_dim=D,\n",
    "                    wordvec_dim=W,\n",
    "                    hidden_dim=H,\n",
    "                    cell_type='lstm')\n",
    "\n",
    "for k, v in model.params.items():\n",
    "    model.params[k] = np.linspace(-1.4, 1.3, num=v.size).reshape(*v.shape)\n",
    "\n",
    "features = np.linspace(-0.5, 1.7, num=N*D).reshape(N, D)\n",
    "captions =(np.arange(N * T) % V).reshape(N, T)\n",
    "\n",
    "loss, grads = model.loss(features, captions)\n",
    "expected_loss = 9.82445935443\n",
    "\n",
    "print('损失值: ', loss)\n",
    "print('期望损失值: ', expected_loss)\n",
    "print('误差: ', abs(loss - expected_loss))"
   ]
  },
  {
   "cell_type": "markdown",
   "id": "a0d7875d",
   "metadata": {},
   "source": [
    "###    LSTM 过拟合测试\n",
    "\n",
    "和RNN类似，我们测试LSTM能否在小数据集上过拟合"
   ]
  },
  {
   "cell_type": "code",
   "execution_count": 19,
   "id": "bcaefd07",
   "metadata": {},
   "outputs": [
    {
     "name": "stdout",
     "output_type": "stream",
     "text": [
      "(Iteration 1 / 100) loss: 77.184947\n",
      "(Iteration 11 / 100) loss: 39.224173\n",
      "(Iteration 21 / 100) loss: 26.396812\n",
      "(Iteration 31 / 100) loss: 14.473610\n",
      "(Iteration 41 / 100) loss: 4.766169\n",
      "(Iteration 51 / 100) loss: 1.583464\n",
      "(Iteration 61 / 100) loss: 1.577735\n",
      "(Iteration 71 / 100) loss: 0.271194\n",
      "(Iteration 81 / 100) loss: 0.206668\n",
      "(Iteration 91 / 100) loss: 0.110635\n"
     ]
    },
    {
     "data": {
      "image/png": "[encoded data removed]",
      "text/plain": [
       "<Figure size 720x576 with 1 Axes>"
      ]
     },
     "metadata": {
      "needs_background": "light"
     },
     "output_type": "display_data"
    }
   ],
   "source": [
    "small_data = load_coco_data(max_train=50)\n",
    "\n",
    "small_lstm_model = CaptioningRNN(\n",
    "                    cell_type='lstm',\n",
    "                    word_to_idx=data['word_to_idx'],\n",
    "                    input_dim=data['train_features'].shape[1],\n",
    "                    hidden_dim=512,\n",
    "                    wordvec_dim=256)\n",
    "\n",
    "small_lstm_solver = CaptioningTrainer(small_lstm_model, small_data,\n",
    "                     update_rule='adam',\n",
    "                     num_epochs=50,\n",
    "                     batch_size=25,\n",
    "                     updater_config={\n",
    "                         'learning_rate': 5e-3,\n",
    "                     },\n",
    "                     lr_decay=0.995,\n",
    "                     verbose=True, print_every=10,\n",
    "                 )\n",
    "\n",
    "small_lstm_solver.train()\n",
    "\n",
    "plt.plot(small_lstm_solver.loss_history)\n",
    "plt.xlabel('Iteration')\n",
    "plt.ylabel('Loss')\n",
    "plt.title('Training loss history')\n",
    "plt.show()"
   ]
  },
  {
   "cell_type": "markdown",
   "id": "014f06c3",
   "metadata": {},
   "source": [
    "### LSTM test-time sampling"
   ]
  },
  {
   "cell_type": "code",
   "execution_count": 20,
   "id": "1944d54d",
   "metadata": {},
   "outputs": [
    {
     "name": "stdout",
     "output_type": "stream",
     "text": [
      "http://farm7.staticflickr.com/6178/6167892245_3ef7bfd6c2_z.jpg\n"
     ]
    },
    {
     "data": {
      "image/png": "[encoded data removed]",
      "text/plain": [
       "<Figure size 720x576 with 1 Axes>"
      ]
     },
     "metadata": {
      "needs_background": "light"
     },
     "output_type": "display_data"
    },
    {
     "name": "stdout",
     "output_type": "stream",
     "text": [
      "http://farm5.staticflickr.com/4121/4769212854_0bcba64aa7_z.jpg\n"
     ]
    },
    {
     "data": {
      "image/png": "[encoded data removed]",
      "text/plain": [
       "<Figure size 720x576 with 1 Axes>"
      ]
     },
     "metadata": {
      "needs_background": "light"
     },
     "output_type": "display_data"
    },
    {
     "name": "stdout",
     "output_type": "stream",
     "text": [
      "http://farm2.staticflickr.com/1112/596804848_afb6e350a8_z.jpg\n"
     ]
    },
    {
     "data": {
      "image/png": "[encoded data removed]",
      "text/plain": [
       "<Figure size 720x576 with 1 Axes>"
      ]
     },
     "metadata": {
      "needs_background": "light"
     },
     "output_type": "display_data"
    },
    {
     "name": "stdout",
     "output_type": "stream",
     "text": [
      "http://farm1.staticflickr.com/164/439147986_2486920a79_z.jpg\n"
     ]
    },
    {
     "data": {
      "image/png": "[encoded data removed]",
      "text/plain": [
       "<Figure size 720x576 with 1 Axes>"
      ]
     },
     "metadata": {
      "needs_background": "light"
     },
     "output_type": "display_data"
    }
   ],
   "source": [
    "for split in ['train', 'val']:\n",
    "    minibatch = sample_coco_minibatch(small_data, split=split, batch_size=2)\n",
    "    gt_captions, features, urls = minibatch\n",
    "    gt_captions = decode_captions(gt_captions, data['idx_to_word'])\n",
    "\n",
    "    sample_captions = small_lstm_model.sample(features)\n",
    "    sample_captions = decode_captions(sample_captions, data['idx_to_word'])\n",
    "\n",
    "    for gt_caption, sample_caption, url in zip(gt_captions, sample_captions, urls):\n",
    "        # plt.imshow(image_from_url(url))\n",
    "        print(url)\n",
    "        plt.title('%s\\n%s\\nGT:%s' %(split, sample_caption, gt_caption))\n",
    "        plt.axis('off')\n",
    "        plt.show()"
   ]
  },
  {
   "cell_type": "markdown",
   "id": "17d4ffbb",
   "metadata": {},
   "source": [
    "### 训练一个好的图片说明任务"
   ]
  },
  {
   "cell_type": "code",
   "execution_count": 21,
   "id": "2077183f",
   "metadata": {},
   "outputs": [
    {
     "name": "stdout",
     "output_type": "stream",
     "text": [
      "(Iteration 1 / 2500) loss: 77.557809\n",
      "(Iteration 51 / 2500) loss: 41.835524\n",
      "(Iteration 101 / 2500) loss: 35.659107\n",
      "(Iteration 151 / 2500) loss: 33.714988\n",
      "(Iteration 201 / 2500) loss: 30.808365\n",
      "(Iteration 251 / 2500) loss: 28.904012\n",
      "(Iteration 301 / 2500) loss: 26.059836\n",
      "(Iteration 351 / 2500) loss: 26.031326\n",
      "(Iteration 401 / 2500) loss: 22.815424\n",
      "(Iteration 451 / 2500) loss: 22.772759\n",
      "(Iteration 501 / 2500) loss: 20.736977\n",
      "(Iteration 551 / 2500) loss: 21.022939\n",
      "(Iteration 601 / 2500) loss: 19.118450\n",
      "(Iteration 651 / 2500) loss: 18.663928\n",
      "(Iteration 701 / 2500) loss: 16.895750\n",
      "(Iteration 751 / 2500) loss: 16.610176\n",
      "(Iteration 801 / 2500) loss: 16.800854\n",
      "(Iteration 851 / 2500) loss: 15.282215\n",
      "(Iteration 901 / 2500) loss: 13.853283\n",
      "(Iteration 951 / 2500) loss: 12.862395\n",
      "(Iteration 1001 / 2500) loss: 12.577979\n",
      "(Iteration 1051 / 2500) loss: 11.035210\n",
      "(Iteration 1101 / 2500) loss: 11.835750\n",
      "(Iteration 1151 / 2500) loss: 11.085219\n",
      "(Iteration 1201 / 2500) loss: 10.444645\n",
      "(Iteration 1251 / 2500) loss: 9.716379\n",
      "(Iteration 1301 / 2500) loss: 10.622007\n",
      "(Iteration 1351 / 2500) loss: 9.389702\n",
      "(Iteration 1401 / 2500) loss: 8.864774\n",
      "(Iteration 1451 / 2500) loss: 8.837836\n",
      "(Iteration 1501 / 2500) loss: 8.383492\n",
      "(Iteration 1551 / 2500) loss: 7.997636\n",
      "(Iteration 1601 / 2500) loss: 8.565062\n",
      "(Iteration 1651 / 2500) loss: 8.156050\n",
      "(Iteration 1701 / 2500) loss: 7.169216\n",
      "(Iteration 1751 / 2500) loss: 6.436919\n",
      "(Iteration 1801 / 2500) loss: 7.325675\n",
      "(Iteration 1851 / 2500) loss: 6.806780\n",
      "(Iteration 1901 / 2500) loss: 6.385995\n",
      "(Iteration 1951 / 2500) loss: 6.291843\n",
      "(Iteration 2001 / 2500) loss: 4.958617\n",
      "(Iteration 2051 / 2500) loss: 5.567452\n",
      "(Iteration 2101 / 2500) loss: 5.913960\n",
      "(Iteration 2151 / 2500) loss: 5.399012\n",
      "(Iteration 2201 / 2500) loss: 4.924958\n",
      "(Iteration 2251 / 2500) loss: 4.796707\n",
      "(Iteration 2301 / 2500) loss: 5.224964\n",
      "(Iteration 2351 / 2500) loss: 4.845715\n",
      "(Iteration 2401 / 2500) loss: 4.922645\n",
      "(Iteration 2451 / 2500) loss: 4.887911\n"
     ]
    },
    {
     "data": {
      "image/png": "[encoded data removed]",
      "text/plain": [
       "<Figure size 720x576 with 1 Axes>"
      ]
     },
     "metadata": {
      "needs_background": "light"
     },
     "output_type": "display_data"
    }
   ],
   "source": [
    "#pass\n",
    "small_data2 = load_coco_data(max_train=5000)\n",
    "good_lstm_model = CaptioningRNN(\n",
    "                    cell_type='lstm',\n",
    "                    word_to_idx=data['word_to_idx'],\n",
    "                    input_dim=data['train_features'].shape[1],\n",
    "                    hidden_dim=200,\n",
    "                    wordvec_dim=256 )\n",
    "\n",
    "good_lstm_solver = CaptioningTrainer(good_lstm_model, small_data2,\n",
    "                     update_rule='adam',\n",
    "                     num_epochs=50,\n",
    "                     batch_size=100,\n",
    "                     updater_config={\n",
    "                         'learning_rate': 5e-3,\n",
    "                     },\n",
    "                     lr_decay=0.995,\n",
    "                     verbose=True, print_every=50,\n",
    "                 )\n",
    "\n",
    "good_lstm_solver.train()\n",
    "\n",
    "plt.plot(good_lstm_solver.loss_history)\n",
    "plt.xlabel('Iteration')\n",
    "plt.ylabel('Loss')\n",
    "plt.title('Training loss history')\n",
    "plt.show()"
   ]
  },
  {
   "cell_type": "code",
   "execution_count": 23,
   "id": "0bbd8d5b",
   "metadata": {},
   "outputs": [
    {
     "name": "stdout",
     "output_type": "stream",
     "text": [
      "http://farm9.staticflickr.com/8102/8510027814_acffff06cd_z.jpg\n"
     ]
    },
    {
     "data": {
      "image/png": "[encoded data removed]",
      "text/plain": [
       "<Figure size 720x576 with 1 Axes>"
      ]
     },
     "metadata": {
      "needs_background": "light"
     },
     "output_type": "display_data"
    },
    {
     "name": "stdout",
     "output_type": "stream",
     "text": [
      "http://farm8.staticflickr.com/7035/6510880243_4086cbb06e_z.jpg\n"
     ]
    },
    {
     "data": {
      "image/png": "[encoded data removed]",
      "text/plain": [
       "<Figure size 720x576 with 1 Axes>"
      ]
     },
     "metadata": {
      "needs_background": "light"
     },
     "output_type": "display_data"
    },
    {
     "name": "stdout",
     "output_type": "stream",
     "text": [
      "http://farm6.staticflickr.com/5328/9362192917_5324bd3d74_z.jpg\n"
     ]
    },
    {
     "data": {
      "image/png": "[encoded data removed]",
      "text/plain": [
       "<Figure size 720x576 with 1 Axes>"
      ]
     },
     "metadata": {
      "needs_background": "light"
     },
     "output_type": "display_data"
    },
    {
     "name": "stdout",
     "output_type": "stream",
     "text": [
      "http://farm4.staticflickr.com/3316/5816070088_dfdce60093_z.jpg\n"
     ]
    },
    {
     "data": {
      "image/png": "[encoded data removed]",
      "text/plain": [
       "<Figure size 720x576 with 1 Axes>"
      ]
     },
     "metadata": {
      "needs_background": "light"
     },
     "output_type": "display_data"
    }
   ],
   "source": [
    "#pass\n",
    "for split in ['train', 'val']:\n",
    "    minibatch = sample_coco_minibatch(small_data2, split=split, batch_size=2)\n",
    "    gt_captions, features, urls = minibatch\n",
    "    gt_captions = decode_captions(gt_captions, data['idx_to_word'])\n",
    "\n",
    "    sample_captions = good_lstm_model.sample(features)\n",
    "    sample_captions = decode_captions(sample_captions, data['idx_to_word'])\n",
    "\n",
    "    for gt_caption, sample_caption, url in zip(gt_captions, sample_captions, urls):\n",
    "        #plt.imshow(image_from_url(url))\n",
    "        print(url)\n",
    "        plt.title('%s\\n%s\\nGT:%s' %(split, sample_caption, gt_caption))\n",
    "        plt.axis('off')\n",
    "        plt.show()"
   ]
  },
  {
   "cell_type": "code",
   "execution_count": null,
   "id": "f9a5ed25",
   "metadata": {},
   "outputs": [],
   "source": []
  }
 ],
 "metadata": {
  "kernelspec": {
   "display_name": "Python 3 (ipykernel)",
   "language": "python",
   "name": "python3"
  },
  "language_info": {
   "codemirror_mode": {
    "name": "ipython",
    "version": 3
   },
   "file_extension": ".py",
   "mimetype": "text/x-python",
   "name": "python",
   "nbconvert_exporter": "python",
   "pygments_lexer": "ipython3",
   "version": "3.7.3"
  }
 },
 "nbformat": 4,
 "nbformat_minor": 5
}
